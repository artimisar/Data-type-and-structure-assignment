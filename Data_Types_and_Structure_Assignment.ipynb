{
  "nbformat": 4,
  "nbformat_minor": 0,
  "metadata": {
    "colab": {
      "provenance": []
    },
    "kernelspec": {
      "name": "python3",
      "display_name": "Python 3"
    },
    "language_info": {
      "name": "python"
    }
  },
  "cells": [
    {
      "cell_type": "markdown",
      "source": [
        "1. What are data structures, and why are they important?\n",
        "  \n",
        "    \n",
        "\n",
        "* Data structures are ways of organizing and storing data to perform operations efficiently. They are important because they help in optimizing data storage, retrieval, and manipulation, leading to efficient algorithms.\n",
        "\n",
        "\n",
        "\n",
        "\n",
        "\n"
      ],
      "metadata": {
        "id": "yIAxBBvVfdLS"
      }
    },
    {
      "cell_type": "markdown",
      "source": [
        "2.Explain the difference between mutable and immutable data types with examples.\n",
        "\n",
        "\n",
        "* Mutable data types can be changed after creation. Example: list, dict, set\n",
        "\n",
        "\n",
        "*   Immutable data types cannot be changed after creation. Example: tuple, string, int\n",
        "\n",
        "\n",
        "\n"
      ],
      "metadata": {
        "id": "qlV9D7XpfguP"
      }
    },
    {
      "cell_type": "markdown",
      "source": [
        "3.What are the main differences between lists and tuples in Python?\n",
        "\n",
        "\n",
        "* List are muttable,performance of list slow and syntax is [  ]\n",
        "\n",
        "\n",
        "\n",
        "*  Tuple are immutable,performance tuple is faster and syntax is (  )\n",
        "\n",
        "\n",
        "\n",
        "\n",
        "\n",
        "\n"
      ],
      "metadata": {
        "id": "N5aREff2fb2u"
      }
    },
    {
      "cell_type": "markdown",
      "source": [
        "4.Describe how dictionaries store data.\n",
        "\n",
        "\n",
        "*  Dictionaries store data as key-value pairs using a hash table.\n",
        "\n",
        "  \n",
        "\n"
      ],
      "metadata": {
        "id": "Er0HgaeZkH6k"
      }
    },
    {
      "cell_type": "markdown",
      "source": [
        "5.Why might you use a set instead of a list in Python?Why might you use a set instead of a list in Python?\n",
        "\n",
        "\n",
        "*   Sets automatically remove duplicates.\n",
        "\n",
        "\n",
        "*  Sets alow faster lookup.\n",
        "\n",
        "\n"
      ],
      "metadata": {
        "id": "lDVcbwK7ksFE"
      }
    },
    {
      "cell_type": "markdown",
      "source": [
        " 6.What is a string in Python, and how is it different from a list?\n",
        "\n",
        "\n",
        "*   A string is a sequence of characters (immutable).\n",
        "\n",
        "\n",
        "*   A list is a collection of elements (mutable)\n",
        "\n",
        "\n",
        "\n"
      ],
      "metadata": {
        "id": "j9UVhuOhp6uU"
      }
    },
    {
      "cell_type": "markdown",
      "source": [
        " 7.How do tuples ensure data integrity in Python?\n",
        "   \n",
        "\n",
        "*   Tuples are immutable, preventing accidental modification\n",
        "\n",
        "\n"
      ],
      "metadata": {
        "id": "ho_CXXUOqT7U"
      }
    },
    {
      "cell_type": "markdown",
      "source": [
        "8.What is a hash table, and how does it relate to dictionaries in Python?\n",
        "\n",
        "\n",
        "*   A hash table is a data structure that maps keys to values using a hash function. Python dictionaries use hash tables for fast lookups.\n",
        "\n",
        "\n",
        "\n"
      ],
      "metadata": {
        "id": "2V7_1Kr7qoG5"
      }
    },
    {
      "cell_type": "markdown",
      "source": [
        "9.Can lists contain different data types in Python?\n",
        "\n",
        "\n",
        "*   Yes, Python lists can hold multiple data types.\n",
        "\n"
      ],
      "metadata": {
        "id": "-9Va9REEq7DQ"
      }
    },
    {
      "cell_type": "markdown",
      "source": [
        "10.Explain why strings are immutable in Python.\n",
        "\n",
        "\n",
        "* Strings are immutable to ensure security, performance, and hashability (for use as dictionary keys)\n",
        "\n"
      ],
      "metadata": {
        "id": "MUmEKgVmrPZ2"
      }
    },
    {
      "cell_type": "markdown",
      "source": [
        "11.What advantages do dictionaries offer over lists for certain tasks?\n",
        "\n",
        "\n",
        "\n",
        "*   Faster lookups  compared to lists .\n",
        "    \n",
        "  \n",
        "*   Key-based access instead of index-based.\n",
        "\n",
        "\n",
        "\n"
      ],
      "metadata": {
        "id": "yEB40r-krlQh"
      }
    },
    {
      "cell_type": "markdown",
      "source": [
        "12.Describe a scenario where using a tuple would be preferable over a list.\n",
        "\n",
        "\n",
        "\n",
        "\n",
        "*   Storing fixed data like database records.\n",
        "\n",
        "* Ensuring immutability for security-sensitive data.  \n",
        "\n",
        "\n",
        "\n"
      ],
      "metadata": {
        "id": "9d8XggsasISa"
      }
    },
    {
      "cell_type": "markdown",
      "source": [
        "13.How do sets handle duplicate values in Python?\n",
        "\n",
        "\n",
        "*   Sets remove duplicate values automatically\n",
        "    Example\n",
        "\n"
      ],
      "metadata": {
        "id": "2BUFSGUCsn-1"
      }
    },
    {
      "cell_type": "code",
      "source": [
        "set={1,2,2,3,3,4}\n",
        "print(set)"
      ],
      "metadata": {
        "colab": {
          "base_uri": "https://localhost:8080/"
        },
        "id": "pcfikqGps9Er",
        "outputId": "d2a97ef8-2725-49f6-c7d4-91794ba76d25"
      },
      "execution_count": null,
      "outputs": [
        {
          "output_type": "stream",
          "name": "stdout",
          "text": [
            "{1, 2, 3, 4}\n"
          ]
        }
      ]
    },
    {
      "cell_type": "markdown",
      "source": [
        "14.How does the “in” keyword work differently for lists and dictionaries?\n",
        "\n",
        "\n",
        "*  Lists: Searches for the value.\n",
        "   \n",
        "\n",
        "*   Dictionaries: Searches for the key\n",
        "\n",
        "\n",
        "\n",
        "\n"
      ],
      "metadata": {
        "id": "c_ZFVv9QtPHJ"
      }
    },
    {
      "cell_type": "code",
      "source": [
        "my_list=[1,2,4,5]\n",
        "print(2 in my_list)"
      ],
      "metadata": {
        "colab": {
          "base_uri": "https://localhost:8080/"
        },
        "id": "lzks2eYFt2RT",
        "outputId": "67291235-96cf-494b-e6c5-d9efde75e5cc"
      },
      "execution_count": null,
      "outputs": [
        {
          "output_type": "stream",
          "name": "stdout",
          "text": [
            "True\n"
          ]
        }
      ]
    },
    {
      "cell_type": "code",
      "source": [
        "my_dict={\"a\":1,\"b\":2}\n",
        "print(\"a\"in my_dict)"
      ],
      "metadata": {
        "colab": {
          "base_uri": "https://localhost:8080/"
        },
        "id": "kthmsI_CuSD2",
        "outputId": "6e42f96e-9f05-465e-ab41-380041f5e309"
      },
      "execution_count": null,
      "outputs": [
        {
          "output_type": "stream",
          "name": "stdout",
          "text": [
            "True\n"
          ]
        }
      ]
    },
    {
      "cell_type": "markdown",
      "source": [
        "15.Can you modify the elements of a tuple? Explain why or why not.\n",
        "\n",
        "\n",
        "*   No,Tuple are immutable\n",
        "\n"
      ],
      "metadata": {
        "id": "cfQ2ihEPukdW"
      }
    },
    {
      "cell_type": "code",
      "source": [
        "T=(1,2,4,8)\n",
        "T[0]=4"
      ],
      "metadata": {
        "colab": {
          "base_uri": "https://localhost:8080/",
          "height": 158
        },
        "id": "7vGx80RMvD6c",
        "outputId": "2dc65f9b-a5f0-4d5c-8f3a-b0d12b0a9fb7"
      },
      "execution_count": null,
      "outputs": [
        {
          "output_type": "error",
          "ename": "TypeError",
          "evalue": "'tuple' object does not support item assignment",
          "traceback": [
            "\u001b[0;31m---------------------------------------------------------------------------\u001b[0m",
            "\u001b[0;31mTypeError\u001b[0m                                 Traceback (most recent call last)",
            "\u001b[0;32m<ipython-input-4-322056d1a3c8>\u001b[0m in \u001b[0;36m<cell line: 0>\u001b[0;34m()\u001b[0m\n\u001b[1;32m      1\u001b[0m \u001b[0mT\u001b[0m\u001b[0;34m=\u001b[0m\u001b[0;34m(\u001b[0m\u001b[0;36m1\u001b[0m\u001b[0;34m,\u001b[0m\u001b[0;36m2\u001b[0m\u001b[0;34m,\u001b[0m\u001b[0;36m4\u001b[0m\u001b[0;34m,\u001b[0m\u001b[0;36m8\u001b[0m\u001b[0;34m)\u001b[0m\u001b[0;34m\u001b[0m\u001b[0;34m\u001b[0m\u001b[0m\n\u001b[0;32m----> 2\u001b[0;31m \u001b[0mT\u001b[0m\u001b[0;34m[\u001b[0m\u001b[0;36m0\u001b[0m\u001b[0;34m]\u001b[0m\u001b[0;34m=\u001b[0m\u001b[0;36m4\u001b[0m\u001b[0;34m\u001b[0m\u001b[0;34m\u001b[0m\u001b[0m\n\u001b[0m",
            "\u001b[0;31mTypeError\u001b[0m: 'tuple' object does not support item assignment"
          ]
        }
      ]
    },
    {
      "cell_type": "markdown",
      "source": [
        "16. What is a nested dictionary, and give an example of its use case?\n",
        "\n",
        "\n",
        "*  A dictionary inside another dictionary.\n",
        "  \n",
        "\n",
        "*  Examaple\n",
        "\n",
        "\n",
        "\n"
      ],
      "metadata": {
        "id": "TeGdHqGRvYh-"
      }
    },
    {
      "cell_type": "code",
      "source": [
        "students = {\n",
        "    \"Alice\": {\"age\": 20, \"grade\": \"A\"},\n",
        "    \"Bob\": {\"age\": 21, \"grade\": \"B\"}\n",
        "}\n",
        "print(students[\"Alice\"][\"grade\"])\n"
      ],
      "metadata": {
        "colab": {
          "base_uri": "https://localhost:8080/"
        },
        "id": "4_qx4abGv1q4",
        "outputId": "23601bec-64b9-415d-e0d3-65dad9a9f767"
      },
      "execution_count": null,
      "outputs": [
        {
          "output_type": "stream",
          "name": "stdout",
          "text": [
            "A\n"
          ]
        }
      ]
    },
    {
      "cell_type": "markdown",
      "source": [
        "17.Describe the time complexity of accessing elements in a dictionary\n",
        "   \n",
        "\n",
        "* Lookup in dictionary (dict[key]) → O(1).\n",
        "\n"
      ],
      "metadata": {
        "id": "R4GaeP7Gw8hX"
      }
    },
    {
      "cell_type": "markdown",
      "source": [
        "18.In what situations are lists preferred over dictionaries?\n",
        "\n",
        "\n",
        "*  \n",
        "Sequential processing (e.g., looping through elements).\n",
        "\n"
      ],
      "metadata": {
        "id": "butlzHADxbcz"
      }
    },
    {
      "cell_type": "markdown",
      "source": [
        "19.Why are dictionaries considered unordered, and how does that affect data retrieval?\n",
        "\n",
        "\n",
        "*   Dictionaries store data in hash tables, so the order was not guaranteed before Python 3.7. From Python 3.7+, they preserve insertion order.\n",
        "\n"
      ],
      "metadata": {
        "id": "LnNAf9yjyPB2"
      }
    },
    {
      "cell_type": "markdown",
      "source": [
        "20.Explain the difference between a list and a dictionary in terms of data retrieval.\n",
        "\n",
        "\n",
        "* List\n",
        "\n",
        "\n",
        "Uses index-based retrival.You can access elemenet using their position.\n",
        "\n",
        "List stored ordered data.\n",
        "\n",
        "\n",
        "* Dictionary\n",
        "\n",
        "  Uses key-based retrieval\n",
        "  \n",
        "  Dictionary stored unordered data\n",
        "\n",
        "\n",
        "\n",
        "\n",
        "\n",
        "\n",
        "\n",
        "\n"
      ],
      "metadata": {
        "id": "Yrtfh2RlyqMI"
      }
    },
    {
      "cell_type": "code",
      "source": [
        "#1.Write a code to create a string with your name and print it\n",
        "name=\"Arti\"\n",
        "print(name)"
      ],
      "metadata": {
        "colab": {
          "base_uri": "https://localhost:8080/"
        },
        "id": "AV8UB3ZJ0zEZ",
        "outputId": "6df148ee-7a78-432e-937e-185648c5ab67"
      },
      "execution_count": null,
      "outputs": [
        {
          "output_type": "stream",
          "name": "stdout",
          "text": [
            "Arti\n"
          ]
        }
      ]
    },
    {
      "cell_type": "code",
      "source": [
        "#2. Write a code to find the length of the string \"Hello World\"P\n",
        "string=\"Hello World\"\n",
        "print(len(string))"
      ],
      "metadata": {
        "colab": {
          "base_uri": "https://localhost:8080/"
        },
        "id": "ovTC0Nl42CNi",
        "outputId": "ef58cca4-2974-47ae-96a8-cda6616678cb"
      },
      "execution_count": null,
      "outputs": [
        {
          "output_type": "stream",
          "name": "stdout",
          "text": [
            "11\n"
          ]
        }
      ]
    },
    {
      "cell_type": "code",
      "source": [
        "#3.Write a code to slice the first 3 characters from the string \"Python Programming\"\n",
        "string=\"Python Programming\"\n",
        "print(string[:3])\n"
      ],
      "metadata": {
        "colab": {
          "base_uri": "https://localhost:8080/"
        },
        "id": "FTcuryxP2bpq",
        "outputId": "78353c49-fdac-4950-b451-6b9c107b416d"
      },
      "execution_count": null,
      "outputs": [
        {
          "output_type": "stream",
          "name": "stdout",
          "text": [
            "Pyt\n"
          ]
        }
      ]
    },
    {
      "cell_type": "code",
      "source": [
        "#4.P Write a code to convert the string \"hello\" to uppercase\n",
        "text=\"hello\"\n",
        "text.upper()"
      ],
      "metadata": {
        "colab": {
          "base_uri": "https://localhost:8080/",
          "height": 36
        },
        "id": "FV0uY4rH3LIR",
        "outputId": "76199062-0f6f-471b-c227-da8d265905eb"
      },
      "execution_count": null,
      "outputs": [
        {
          "output_type": "execute_result",
          "data": {
            "text/plain": [
              "'HELLO'"
            ],
            "application/vnd.google.colaboratory.intrinsic+json": {
              "type": "string"
            }
          },
          "metadata": {},
          "execution_count": 14
        }
      ]
    },
    {
      "cell_type": "code",
      "source": [
        "#5. Write a code to replace the word \"apple\" with \"orange\" in the string \"I like apple\"\n",
        "a=\"I like apple\"\n",
        "a.replace(\"apple\",\"orange\")"
      ],
      "metadata": {
        "colab": {
          "base_uri": "https://localhost:8080/",
          "height": 36
        },
        "id": "XcgCGxgL3f9q",
        "outputId": "5c069d30-35c4-498a-b5ce-0ed110ce2fe3"
      },
      "execution_count": null,
      "outputs": [
        {
          "output_type": "execute_result",
          "data": {
            "text/plain": [
              "'I like orange'"
            ],
            "application/vnd.google.colaboratory.intrinsic+json": {
              "type": "string"
            }
          },
          "metadata": {},
          "execution_count": 15
        }
      ]
    },
    {
      "cell_type": "code",
      "source": [
        "#6.Write a code to create a list with numbers 1 to 5 and print it\n",
        "list=[1,2,3,4,5]\n",
        "list"
      ],
      "metadata": {
        "id": "HQOUZyqC4GNg",
        "colab": {
          "base_uri": "https://localhost:8080/"
        },
        "outputId": "ee10646d-fd23-496e-9295-4e7d6be7b30a"
      },
      "execution_count": null,
      "outputs": [
        {
          "output_type": "execute_result",
          "data": {
            "text/plain": [
              "[1, 2, 3, 4, 5]"
            ]
          },
          "metadata": {},
          "execution_count": 1
        }
      ]
    },
    {
      "cell_type": "code",
      "source": [
        "#7.Write a code to append the number 10 to the list [1, 2, 3, 4]\n",
        "list=[1,2,3,4]\n",
        "list.append(10)\n",
        "list"
      ],
      "metadata": {
        "colab": {
          "base_uri": "https://localhost:8080/"
        },
        "id": "O6I7rq0eo5oU",
        "outputId": "39529abb-5773-4289-adc7-0df336c83888"
      },
      "execution_count": null,
      "outputs": [
        {
          "output_type": "execute_result",
          "data": {
            "text/plain": [
              "[1, 2, 3, 4, 10]"
            ]
          },
          "metadata": {},
          "execution_count": 2
        }
      ]
    },
    {
      "cell_type": "code",
      "source": [
        "#8. Write a code to remove the number 3 from the list [1, 2, 3, 4, 5]\n",
        "list=[1,2,3,4,5]\n",
        "list.remove(3)\n",
        "list\n"
      ],
      "metadata": {
        "colab": {
          "base_uri": "https://localhost:8080/"
        },
        "id": "a5mOpSnqpQ2G",
        "outputId": "dc7040fb-4354-4b67-9feb-76b4c597ebb8"
      },
      "execution_count": null,
      "outputs": [
        {
          "output_type": "execute_result",
          "data": {
            "text/plain": [
              "[1, 2, 4, 5]"
            ]
          },
          "metadata": {},
          "execution_count": 3
        }
      ]
    },
    {
      "cell_type": "code",
      "source": [
        "#9.Write a code to access the second element in the list ['a', 'b', 'c']\n",
        "list=['a','b','c']\n",
        "list[1]"
      ],
      "metadata": {
        "colab": {
          "base_uri": "https://localhost:8080/",
          "height": 36
        },
        "id": "irSm-3v6p5bX",
        "outputId": "b9536803-86c0-4762-dd90-1cded797523c"
      },
      "execution_count": null,
      "outputs": [
        {
          "output_type": "execute_result",
          "data": {
            "text/plain": [
              "'b'"
            ],
            "application/vnd.google.colaboratory.intrinsic+json": {
              "type": "string"
            }
          },
          "metadata": {},
          "execution_count": 5
        }
      ]
    },
    {
      "cell_type": "code",
      "source": [
        "#10.Write a code to reverse the list [10, 20, 30, 40, 50]\n",
        "list=[10,20,30,40,50]\n",
        "list.reverse()\n",
        "list\n",
        "\n"
      ],
      "metadata": {
        "colab": {
          "base_uri": "https://localhost:8080/"
        },
        "id": "RWQGomhoqjzE",
        "outputId": "919ce322-725a-4d76-896a-115f83537ec2"
      },
      "execution_count": null,
      "outputs": [
        {
          "output_type": "execute_result",
          "data": {
            "text/plain": [
              "[50, 40, 30, 20, 10]"
            ]
          },
          "metadata": {},
          "execution_count": 6
        }
      ]
    },
    {
      "cell_type": "code",
      "source": [
        "#11. Write a code to create a tuple with the elements 100, 200, 300 and print it\n",
        "tuple=(100,200,300)\n",
        "tuple"
      ],
      "metadata": {
        "colab": {
          "base_uri": "https://localhost:8080/"
        },
        "id": "cpqcmqBBrH3g",
        "outputId": "0a1e4d13-0429-4e70-8542-ec34f19d60e5"
      },
      "execution_count": null,
      "outputs": [
        {
          "output_type": "execute_result",
          "data": {
            "text/plain": [
              "(100, 200, 300)"
            ]
          },
          "metadata": {},
          "execution_count": 7
        }
      ]
    },
    {
      "cell_type": "code",
      "source": [
        "#12.Write a code to access the second-to-last element of the tuple ('red', 'green', 'blue', 'yellow')\n",
        "tupple=('red','green','blue','yellow')\n",
        "tupple[-2]\n"
      ],
      "metadata": {
        "colab": {
          "base_uri": "https://localhost:8080/",
          "height": 36
        },
        "id": "gF-w0gqqrnRT",
        "outputId": "cf6dcda3-a456-4b52-f9a5-9bcf8dfbbe85"
      },
      "execution_count": null,
      "outputs": [
        {
          "output_type": "execute_result",
          "data": {
            "text/plain": [
              "'blue'"
            ],
            "application/vnd.google.colaboratory.intrinsic+json": {
              "type": "string"
            }
          },
          "metadata": {},
          "execution_count": 10
        }
      ]
    },
    {
      "cell_type": "code",
      "source": [
        "#13.Write a code to find the minimum number in the tuple (10, 20, 5, 15).\n",
        "tuple=(10,20,5,15)\n",
        "min(tuple)"
      ],
      "metadata": {
        "colab": {
          "base_uri": "https://localhost:8080/"
        },
        "id": "EtvZUCzksTnu",
        "outputId": "641222f9-3cc6-456a-874f-4dbdd444e260"
      },
      "execution_count": null,
      "outputs": [
        {
          "output_type": "execute_result",
          "data": {
            "text/plain": [
              "5"
            ]
          },
          "metadata": {},
          "execution_count": 11
        }
      ]
    },
    {
      "cell_type": "code",
      "source": [
        "#14.Write a code to find the index of the element \"cat\" in the tuple ('dog', 'cat', 'rabbit')\n",
        "tupple=('dog','cat','rabbit')\n",
        "tupple.index('cat')"
      ],
      "metadata": {
        "colab": {
          "base_uri": "https://localhost:8080/"
        },
        "id": "ukcgx5CDs1X3",
        "outputId": "f5138944-06ff-44c8-f8bb-3d28443f80d9"
      },
      "execution_count": null,
      "outputs": [
        {
          "output_type": "execute_result",
          "data": {
            "text/plain": [
              "1"
            ]
          },
          "metadata": {},
          "execution_count": 13
        }
      ]
    },
    {
      "cell_type": "code",
      "source": [
        "#15. Write a code to create a tuple containing three different fruits and check if \"kiwi\" is in it\n",
        "tuple=(\"apple\",\"kiwi\",\"banana\")\n",
        "\"kiwi\"in tuple"
      ],
      "metadata": {
        "colab": {
          "base_uri": "https://localhost:8080/"
        },
        "id": "8LHQ9abGtZ81",
        "outputId": "cc7b2858-f55d-4b0e-ac73-a1ff89632222"
      },
      "execution_count": null,
      "outputs": [
        {
          "output_type": "execute_result",
          "data": {
            "text/plain": [
              "True"
            ]
          },
          "metadata": {},
          "execution_count": 14
        }
      ]
    },
    {
      "cell_type": "code",
      "source": [
        "#16.Write a code to create a set with the elements 'a', 'b', 'c' and print it.\n",
        "set={'a','b','c'}\n",
        "set"
      ],
      "metadata": {
        "colab": {
          "base_uri": "https://localhost:8080/"
        },
        "id": "ZYVhIjePt7lX",
        "outputId": "2a5c09ec-94fd-40ea-ad7a-38c39daae22a"
      },
      "execution_count": null,
      "outputs": [
        {
          "output_type": "execute_result",
          "data": {
            "text/plain": [
              "{'a', 'b', 'c'}"
            ]
          },
          "metadata": {},
          "execution_count": 16
        }
      ]
    },
    {
      "cell_type": "code",
      "source": [
        "#17. Write a code to clear all elements from the set {1, 2, 3, 4, 5}.\n",
        "set={1,2,3,4,5}\n",
        "set.clear()\n",
        "set"
      ],
      "metadata": {
        "colab": {
          "base_uri": "https://localhost:8080/"
        },
        "id": "Zw3fxXH1uxA3",
        "outputId": "ca18f360-d918-4d01-e6fc-058179cb1fac"
      },
      "execution_count": null,
      "outputs": [
        {
          "output_type": "execute_result",
          "data": {
            "text/plain": [
              "set()"
            ]
          },
          "metadata": {},
          "execution_count": 17
        }
      ]
    },
    {
      "cell_type": "code",
      "source": [
        "#18. Write a code to remove the element 4 from the set {1, 2, 3, 4}.\n",
        "set={1,2,3,4}\n",
        "set.remove(4)\n",
        "set"
      ],
      "metadata": {
        "colab": {
          "base_uri": "https://localhost:8080/"
        },
        "id": "yODkdfPLvNkA",
        "outputId": "7391a940-d73f-421c-9e15-bd9bc69b730a"
      },
      "execution_count": null,
      "outputs": [
        {
          "output_type": "execute_result",
          "data": {
            "text/plain": [
              "{1, 2, 3}"
            ]
          },
          "metadata": {},
          "execution_count": 18
        }
      ]
    },
    {
      "cell_type": "code",
      "source": [
        "#19. Write a code to find the union of two sets {1, 2, 3} and {3, 4, 5}.\n",
        "set1={1,2,3}\n",
        "set2={3,4,5}\n",
        "set1|set2"
      ],
      "metadata": {
        "colab": {
          "base_uri": "https://localhost:8080/"
        },
        "id": "11_zZzscve1s",
        "outputId": "ce4d90ff-417f-41f5-9706-64533df932f4"
      },
      "execution_count": null,
      "outputs": [
        {
          "output_type": "execute_result",
          "data": {
            "text/plain": [
              "{1, 2, 3, 4, 5}"
            ]
          },
          "metadata": {},
          "execution_count": 19
        }
      ]
    },
    {
      "cell_type": "code",
      "source": [
        "#20. Write a code to find the intersection of two sets {1, 2, 3} and {2, 3, 4}\n",
        "set1={1,2,3}\n",
        "set2={2,3,4}\n",
        "set1&set2"
      ],
      "metadata": {
        "colab": {
          "base_uri": "https://localhost:8080/"
        },
        "id": "CWk3QUJlwJ7a",
        "outputId": "1b59a15f-75c8-4eb1-fb9b-f37c17b54d58"
      },
      "execution_count": null,
      "outputs": [
        {
          "output_type": "execute_result",
          "data": {
            "text/plain": [
              "{2, 3}"
            ]
          },
          "metadata": {},
          "execution_count": 20
        }
      ]
    },
    {
      "cell_type": "code",
      "source": [
        "#21. Write a code to create a dictionary with the keys \"name\", \"age\", and \"city\", and print it\n",
        "dict={\"name:Arti\",\"age:28\",\"city:Sambhajinagar\"}\n",
        "dict"
      ],
      "metadata": {
        "colab": {
          "base_uri": "https://localhost:8080/"
        },
        "id": "cBRA-jZyveym",
        "outputId": "afa99fb7-2976-43ff-a4ea-f157fba6bddc"
      },
      "execution_count": null,
      "outputs": [
        {
          "output_type": "execute_result",
          "data": {
            "text/plain": [
              "{'age:28', 'city:Sambhajinagar', 'name:Arti'}"
            ]
          },
          "metadata": {},
          "execution_count": 1
        }
      ]
    },
    {
      "cell_type": "code",
      "source": [
        "#22.Write a code to add a new key-value pair \"country\": \"USA\" to the dictionary {'name': 'John', 'age': 25}\n",
        "dict={\"name\":\"john\",\"age\":25}\n",
        "dict[\"country\"]=\"USA\"\n",
        "dict"
      ],
      "metadata": {
        "colab": {
          "base_uri": "https://localhost:8080/"
        },
        "id": "3Rz-y9mqQeRL",
        "outputId": "af90136b-f512-47cd-d25b-cebfb3d07e79"
      },
      "execution_count": null,
      "outputs": [
        {
          "output_type": "execute_result",
          "data": {
            "text/plain": [
              "{'name': 'john', 'age': 25, 'country': 'USA'}"
            ]
          },
          "metadata": {},
          "execution_count": 8
        }
      ]
    },
    {
      "cell_type": "code",
      "source": [
        "#23.Write a code to access the value associated with the key \"name\" in the dictionary {'name': 'Alice', 'age': 30}.\n",
        "dict={\"name\":\"Alice\",\"age\":30}\n",
        "dict[\"name\"]\n"
      ],
      "metadata": {
        "colab": {
          "base_uri": "https://localhost:8080/",
          "height": 36
        },
        "id": "ZG7Qw90rRij8",
        "outputId": "f250f7c7-aa0d-4045-d1fe-8530a95b9c7d"
      },
      "execution_count": null,
      "outputs": [
        {
          "output_type": "execute_result",
          "data": {
            "text/plain": [
              "'Alice'"
            ],
            "application/vnd.google.colaboratory.intrinsic+json": {
              "type": "string"
            }
          },
          "metadata": {},
          "execution_count": 10
        }
      ]
    },
    {
      "cell_type": "code",
      "source": [
        "#24. Write a code to remove the key \"age\" from the dictionary {'name': 'Bob', 'age': 22, 'city': 'New York'}.\n",
        "dict={\"name\":\"Bob\",\"age\":22,\"city\":\"new york\"}\n",
        "dict.pop(\"age\")\n",
        "dict"
      ],
      "metadata": {
        "colab": {
          "base_uri": "https://localhost:8080/"
        },
        "id": "jYzp_NeaT92E",
        "outputId": "9142970a-1c8e-4225-f64a-b63a3d5b55cd"
      },
      "execution_count": null,
      "outputs": [
        {
          "output_type": "execute_result",
          "data": {
            "text/plain": [
              "{'name': 'Bob', 'city': 'new york'}"
            ]
          },
          "metadata": {},
          "execution_count": 13
        }
      ]
    },
    {
      "cell_type": "code",
      "source": [
        "#25. Write a code to check if the key \"city\" exists in the dictionary {'name': 'Alice', 'city': 'Paris'}.\n",
        "dict={\"name\":\"Alice\",\"city\":\"Paris\"}\n",
        "\"city\"in dict"
      ],
      "metadata": {
        "colab": {
          "base_uri": "https://localhost:8080/"
        },
        "id": "Lpv8mZ8yUjZ6",
        "outputId": "64fcc5a0-29c4-4ac9-d566-d20874ef3637"
      },
      "execution_count": null,
      "outputs": [
        {
          "output_type": "execute_result",
          "data": {
            "text/plain": [
              "True"
            ]
          },
          "metadata": {},
          "execution_count": 14
        }
      ]
    },
    {
      "cell_type": "code",
      "source": [
        "#26. Write a code to create a list, a tuple, and a dictionary, and print them all.\n",
        "List=[1,2,3,4]\n",
        "List"
      ],
      "metadata": {
        "colab": {
          "base_uri": "https://localhost:8080/"
        },
        "id": "c2f70aKiU6Yl",
        "outputId": "e82fcf06-2fde-405a-bdc9-d0a586c28c47"
      },
      "execution_count": null,
      "outputs": [
        {
          "output_type": "execute_result",
          "data": {
            "text/plain": [
              "[1, 2, 3, 4]"
            ]
          },
          "metadata": {},
          "execution_count": 15
        }
      ]
    },
    {
      "cell_type": "code",
      "source": [
        "Tuple=(1,2,3,4)\n",
        "Tuple"
      ],
      "metadata": {
        "colab": {
          "base_uri": "https://localhost:8080/"
        },
        "id": "QNkc8Hc2VLGu",
        "outputId": "e79417d6-2ae1-4b73-ca32-40563417d5a8"
      },
      "execution_count": null,
      "outputs": [
        {
          "output_type": "execute_result",
          "data": {
            "text/plain": [
              "(1, 2, 3, 4)"
            ]
          },
          "metadata": {},
          "execution_count": 16
        }
      ]
    },
    {
      "cell_type": "code",
      "source": [
        "Dict={\"name\":\"Arti\",\"age\":28}\n",
        "Dict"
      ],
      "metadata": {
        "colab": {
          "base_uri": "https://localhost:8080/"
        },
        "id": "xoO4qERnVSWE",
        "outputId": "bf166161-6d1e-475f-94ea-9662d5b26868"
      },
      "execution_count": null,
      "outputs": [
        {
          "output_type": "execute_result",
          "data": {
            "text/plain": [
              "{'name': 'Arti', 'age': 28}"
            ]
          },
          "metadata": {},
          "execution_count": 17
        }
      ]
    },
    {
      "cell_type": "code",
      "source": [
        "#27.Write a code to create a list of 5 random numbers between 1 and 100, sort it in ascending order, and print the\n",
        "import random\n",
        "\n",
        "# Generate a list of 5 random numbers between 1 and 100\n",
        "random_numbers = [random.randint(1, 100) for _ in range(5)]\n",
        "\n",
        "# Sort the list in ascending order\n",
        "random_numbers.sort()\n",
        "\n",
        "# Print the result\n",
        "print(\"Sorted random numbers:\", random_numbers)\n",
        "\n",
        "\n",
        "\n"
      ],
      "metadata": {
        "id": "BTWtKuMtVdPH",
        "colab": {
          "base_uri": "https://localhost:8080/"
        },
        "outputId": "935a94ad-acac-463c-c330-1b39551258af"
      },
      "execution_count": 6,
      "outputs": [
        {
          "output_type": "stream",
          "name": "stdout",
          "text": [
            "Sorted random numbers: [9, 31, 62, 77, 89]\n"
          ]
        }
      ]
    },
    {
      "cell_type": "code",
      "source": [
        "#28. Write a code to create a list with strings and print the element at the third index.\n",
        "List=[\"apple\",\"banana\",\"guava\"]\n",
        "List[2]"
      ],
      "metadata": {
        "colab": {
          "base_uri": "https://localhost:8080/",
          "height": 36
        },
        "id": "RVleSYOuV1x2",
        "outputId": "24a3c7d1-5042-4b2d-c54a-fea5756fc197"
      },
      "execution_count": null,
      "outputs": [
        {
          "output_type": "execute_result",
          "data": {
            "text/plain": [
              "'guava'"
            ],
            "application/vnd.google.colaboratory.intrinsic+json": {
              "type": "string"
            }
          },
          "metadata": {},
          "execution_count": 18
        }
      ]
    },
    {
      "cell_type": "code",
      "source": [
        "#29.Write a code to combine two dictionaries into one and print the result\n",
        "dict1={\"a\":1,\"b\":2}\n",
        "dict2={\"c\":3,\"d\":4}\n",
        "dict1.update(dict2)\n",
        "dict1\n"
      ],
      "metadata": {
        "colab": {
          "base_uri": "https://localhost:8080/"
        },
        "id": "iNK-dCuDWPWU",
        "outputId": "ab55577d-9a2a-4625-97ba-c72d2f96f0c1"
      },
      "execution_count": null,
      "outputs": [
        {
          "output_type": "execute_result",
          "data": {
            "text/plain": [
              "{'a': 1, 'b': 2, 'c': 3, 'd': 4}"
            ]
          },
          "metadata": {},
          "execution_count": 19
        }
      ]
    },
    {
      "cell_type": "code",
      "source": [
        "#30.Write a code to convert a list of strings into a set\n",
        "List=[\"apple\",\"banana\",\"guava\"]\n",
        "List=set(List)\n",
        "List"
      ],
      "metadata": {
        "colab": {
          "base_uri": "https://localhost:8080/"
        },
        "id": "BNZJBDvFWlxy",
        "outputId": "91339f32-1eeb-4637-a4c9-0fe33a3de197"
      },
      "execution_count": null,
      "outputs": [
        {
          "output_type": "execute_result",
          "data": {
            "text/plain": [
              "{'apple', 'banana', 'guava'}"
            ]
          },
          "metadata": {},
          "execution_count": 20
        }
      ]
    },
    {
      "cell_type": "markdown",
      "source": [],
      "metadata": {
        "id": "opjL24R-RiMv"
      }
    }
  ]
}